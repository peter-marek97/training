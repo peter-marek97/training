{
 "cells": [
  {
   "cell_type": "markdown",
   "id": "a1225be6",
   "metadata": {},
   "source": [
    "# Chapter 3: Dictionaries and Sets"
   ]
  },
  {
   "cell_type": "markdown",
   "id": "2a10ab66",
   "metadata": {},
   "source": [
    "- the dict type is not only widely used in our programs but also a fundametal part of Python implementation\n",
    "- dictionaries are deplyoed in: module namespaces, class and instance attributes and function keyword arguments, ...\n",
    "- due to their crucial role, Python dicts are highly optimized\n",
    "- **Hash tables** are the engines behind Python's high performance dicts\n",
    "- sets are also implemented with Hash tables"
   ]
  },
  {
   "cell_type": "markdown",
   "id": "8cc97419",
   "metadata": {},
   "source": [
    "# Dictionary | Sets traits/features/consequences"
   ]
  },
  {
   "cell_type": "markdown",
   "id": "538e11aa",
   "metadata": {},
   "source": [
    "- dict keys must be hashable objects | set elements must be hashable objects\n",
    "- both have significant memory overhead (not space efficient) due to internal hash table being sparse\n",
    "- key search is very fast | set membership testing is very efficient\n",
    "- key ordering depends on insertion order | element ordering depends on insertion order\n",
    "- adding items to a dict may change the order of existing items | adding elements to a set may change ordering as well"
   ]
  },
  {
   "cell_type": "markdown",
   "id": "7156a24a",
   "metadata": {},
   "source": [
    "### What is hashable object?"
   ]
  },
  {
   "cell_type": "raw",
   "id": "5deb22d8",
   "metadata": {},
   "source": [
    "- if it has a hash value that never changes during its lifetime (__hash__() method) and can be compared to other objects (__eq__() method). Hashable objects with the same hash value are equal. "
   ]
  },
  {
   "cell_type": "markdown",
   "id": "8eaea891",
   "metadata": {},
   "source": [
    "- atomic immutable types (str, bytes, numeric types) are all hashable.\n",
    "- frozen set is always hashable, because its elements must be hashable by definition\n",
    "- tuple is hashable only if all its items are hashable\n",
    "- user-defined types are hashable by default as their hash value is their id()"
   ]
  },
  {
   "cell_type": "code",
   "execution_count": 1,
   "id": "22eb93da",
   "metadata": {},
   "outputs": [
    {
     "data": {
      "text/plain": [
       "3794340727080330424"
      ]
     },
     "execution_count": 1,
     "metadata": {},
     "output_type": "execute_result"
    }
   ],
   "source": [
    "t1 = (1, 2, (3, 4))\n",
    "hash(t1)"
   ]
  },
  {
   "cell_type": "code",
   "execution_count": 2,
   "id": "3faaa5b0",
   "metadata": {},
   "outputs": [
    {
     "ename": "TypeError",
     "evalue": "unhashable type: 'list'",
     "output_type": "error",
     "traceback": [
      "\u001b[1;31m---------------------------------------------------------------------------\u001b[0m",
      "\u001b[1;31mTypeError\u001b[0m                                 Traceback (most recent call last)",
      "Input \u001b[1;32mIn [2]\u001b[0m, in \u001b[0;36m<cell line: 2>\u001b[1;34m()\u001b[0m\n\u001b[0;32m      1\u001b[0m t2 \u001b[38;5;241m=\u001b[39m (\u001b[38;5;241m1\u001b[39m, \u001b[38;5;241m2\u001b[39m, [\u001b[38;5;241m3\u001b[39m, \u001b[38;5;241m4\u001b[39m]) \u001b[38;5;66;03m# list not hashable\u001b[39;00m\n\u001b[1;32m----> 2\u001b[0m \u001b[38;5;28;43mhash\u001b[39;49m\u001b[43m(\u001b[49m\u001b[43mt2\u001b[49m\u001b[43m)\u001b[49m\n",
      "\u001b[1;31mTypeError\u001b[0m: unhashable type: 'list'"
     ]
    }
   ],
   "source": [
    "t2 = (1, 2, [3, 4]) # list not hashable\n",
    "hash(t2)"
   ]
  },
  {
   "cell_type": "code",
   "execution_count": 3,
   "id": "2789ecb5",
   "metadata": {},
   "outputs": [
    {
     "data": {
      "text/plain": [
       "131250961768736263"
      ]
     },
     "execution_count": 3,
     "metadata": {},
     "output_type": "execute_result"
    }
   ],
   "source": [
    "t3 = (1, 2, frozenset([3, 4]))\n",
    "hash(t3)"
   ]
  },
  {
   "cell_type": "markdown",
   "id": "581ce8b2",
   "metadata": {},
   "source": [
    "- given these ground rules we can build dictionaries in several ways"
   ]
  },
  {
   "cell_type": "code",
   "execution_count": 4,
   "id": "436948b2",
   "metadata": {},
   "outputs": [
    {
     "data": {
      "text/plain": [
       "True"
      ]
     },
     "execution_count": 4,
     "metadata": {},
     "output_type": "execute_result"
    }
   ],
   "source": [
    "a = dict(one=1, two=2)\n",
    "b = {\"one\": 1, \"two\": 2}\n",
    "c = dict(zip([\"one\", \"two\"], [1, 2]))\n",
    "d = dict([(\"two\", 2), (\"one\", 1)])\n",
    "e = dict({\"two\": 2, \"one\": 1})\n",
    "a == b == c == d == e"
   ]
  },
  {
   "cell_type": "markdown",
   "id": "faa83108",
   "metadata": {},
   "source": [
    "### Dict comprehension"
   ]
  },
  {
   "cell_type": "code",
   "execution_count": 5,
   "id": "bab801d6",
   "metadata": {},
   "outputs": [
    {
     "data": {
      "text/plain": [
       "{'UK': 44, 'France': 33, 'Netherlands': 31}"
      ]
     },
     "execution_count": 5,
     "metadata": {},
     "output_type": "execute_result"
    }
   ],
   "source": [
    "dial_codes = [\n",
    "    (44, \"UK\"),\n",
    "    (33, \"France\"),\n",
    "    (31, \"Netherlands\")\n",
    "]\n",
    "\n",
    "codes = {country: code for code, country in dial_codes}\n",
    "codes"
   ]
  },
  {
   "cell_type": "code",
   "execution_count": 6,
   "id": "4c024716",
   "metadata": {},
   "outputs": [
    {
     "data": {
      "text/plain": [
       "{'UK': 44, 'FRANCE': 33, 'NETHERLANDS': 31}"
      ]
     },
     "execution_count": 6,
     "metadata": {},
     "output_type": "execute_result"
    }
   ],
   "source": [
    "{country.upper(): code for code, country in dial_codes} # country to upper case"
   ]
  },
  {
   "cell_type": "code",
   "execution_count": 7,
   "id": "89449966",
   "metadata": {},
   "outputs": [
    {
     "data": {
      "text/plain": [
       "{'UK': 44, 'FRANCE': 33}"
      ]
     },
     "execution_count": 7,
     "metadata": {},
     "output_type": "execute_result"
    }
   ],
   "source": [
    "{country.upper(): code for code, country in dial_codes if code > 31} # condition within comprehension expression"
   ]
  },
  {
   "cell_type": "markdown",
   "id": "f4ccbd24",
   "metadata": {},
   "source": [
    "## Handling missing keys in dict"
   ]
  },
  {
   "cell_type": "raw",
   "id": "a32f755b",
   "metadata": {},
   "source": [
    "- the underlying method that deals with missing keys is __missing__() method. This method is not defined in the base dict class, but dict is aware of it. Additionally, the __missing__ method is called by __getitem__ only.\n",
    "\n",
    "Note: If we subclass dict and implement our own __missing__() method, the standart dict.__getitem__ will call it instead of raising KeyError"
   ]
  },
  {
   "cell_type": "markdown",
   "id": "8b928908",
   "metadata": {},
   "source": [
    "### get() method"
   ]
  },
  {
   "cell_type": "raw",
   "id": "31c56f95",
   "metadata": {},
   "source": [
    "let's say we want to check if key exist, assign default value if not, and append new values at the same time"
   ]
  },
  {
   "cell_type": "code",
   "execution_count": 8,
   "id": "8364ad28",
   "metadata": {},
   "outputs": [
    {
     "name": "stdout",
     "output_type": "stream",
     "text": [
      "{'model': 'Mustang', 'year': 1964}\n",
      "['black', 'blue']\n",
      "{'model': 'Mustang', 'year': 1964}\n"
     ]
    }
   ],
   "source": [
    "car = {\n",
    "  \"model\": \"Mustang\",\n",
    "  \"year\": 1964\n",
    "}\n",
    "print(car)\n",
    "print(car.get(\"colours\", [\"black\", \"blue\"]))\n",
    "print(car)\n",
    "\n",
    "# just get the defualt value when key missing, no changes to the actual \"car\" dictionary"
   ]
  },
  {
   "cell_type": "markdown",
   "id": "b2683c87",
   "metadata": {},
   "source": [
    "### setdefault() method"
   ]
  },
  {
   "cell_type": "code",
   "execution_count": 9,
   "id": "7a8dd383",
   "metadata": {},
   "outputs": [
    {
     "name": "stdout",
     "output_type": "stream",
     "text": [
      "{'model': 'Mustang', 'year': 1964}\n",
      "{'model': 'Mustang', 'year': 1964, 'colours': ['black', 'blue']}\n"
     ]
    }
   ],
   "source": [
    "car = {\n",
    "  \"model\": \"Mustang\",\n",
    "  \"year\": 1964\n",
    "}\n",
    "print(car)\n",
    "car.setdefault(\"colours\", [\"black\"]).append(\"blue\")\n",
    "print(car)\n",
    "\n",
    "# actual \"car\" dictionary changed with the key:value being added"
   ]
  },
  {
   "cell_type": "markdown",
   "id": "97abe225",
   "metadata": {},
   "source": [
    "- the result of the above line above is the same as running ..."
   ]
  },
  {
   "cell_type": "code",
   "execution_count": 10,
   "id": "8a3ed064",
   "metadata": {},
   "outputs": [
    {
     "name": "stdout",
     "output_type": "stream",
     "text": [
      "{'model': 'Mustang', 'year': 1964}\n",
      "{'model': 'Mustang', 'year': 1964, 'colours': ['black']}\n",
      "{'model': 'Mustang', 'year': 1964, 'colours': ['black', 'blue']}\n"
     ]
    }
   ],
   "source": [
    "car2 = {\n",
    "  \"model\": \"Mustang\",\n",
    "  \"year\": 1964\n",
    "}\n",
    "print(car2)\n",
    "\n",
    "if \"colours\" not in car2:\n",
    "    car2[\"colours\"] = [\"black\"]\n",
    "    print(car2)\n",
    "car2[\"colours\"].append(\"blue\")\n",
    "print(car2)\n",
    "\n",
    "# actual \"car\" dictionary changed with the key:value being added, but more expensive than previous approach"
   ]
  },
  {
   "cell_type": "markdown",
   "id": "97b588b5",
   "metadata": {},
   "source": [
    "- ... except this code performs at least 2 searches for a key - three if it's not found\n",
    "- while setdefault does it all in a **single lookup**"
   ]
  },
  {
   "cell_type": "markdown",
   "id": "f9b81a69",
   "metadata": {},
   "source": [
    "### defaultdict"
   ]
  },
  {
   "cell_type": "markdown",
   "id": "d2f56322",
   "metadata": {},
   "source": [
    "- configured to create items on demand whenever a missing key is searched\n",
    "- need to provide a callable or None to defaultdict"
   ]
  },
  {
   "cell_type": "code",
   "execution_count": 11,
   "id": "6eb98f74",
   "metadata": {},
   "outputs": [
    {
     "name": "stdout",
     "output_type": "stream",
     "text": [
      "defaultdict(<class 'list'>, {})\n",
      "defaultdict(<class 'list'>, {'non_existing_key': []})\n",
      "defaultdict(<class 'list'>, {'non_existing_key': [], 'another_key': ['blue']})\n"
     ]
    }
   ],
   "source": [
    "from collections import defaultdict\n",
    "example = defaultdict(list)\n",
    "print(example)\n",
    "example[\"non_existing_key\"] # default value is list\n",
    "print(example)\n",
    "example[\"another_key\"].append(\"blue\")\n",
    "print(example)"
   ]
  },
  {
   "cell_type": "markdown",
   "id": "9eb0b19c",
   "metadata": {},
   "source": [
    "## Variations of dict"
   ]
  },
  {
   "cell_type": "markdown",
   "id": "4cb11fb8",
   "metadata": {},
   "source": [
    "- besides defaultdict as we it is covered above"
   ]
  },
  {
   "cell_type": "markdown",
   "id": "e60182bb",
   "metadata": {},
   "source": [
    "### collections.OrderedDict"
   ]
  },
  {
   "cell_type": "markdown",
   "id": "84cca896",
   "metadata": {},
   "source": [
    "- maintains keys in insertion order\n",
    "- allowing iteration over items in predictable order\n",
    "- popitem() pops the first item by default, but if specified popitem(last=True) -> pops last item added"
   ]
  },
  {
   "cell_type": "markdown",
   "id": "93241964",
   "metadata": {},
   "source": [
    "### collections.ChainMap"
   ]
  },
  {
   "cell_type": "markdown",
   "id": "af724d34",
   "metadata": {},
   "source": [
    "- holds a list of mappings which can be searched as one\n",
    "- lookup is performed on each mapping in order, and succeeds is the key is found in any of them\n",
    "- used in interpreters for languages with nested scopes"
   ]
  },
  {
   "cell_type": "markdown",
   "id": "344d5325",
   "metadata": {},
   "source": [
    "### collections.Counter"
   ]
  },
  {
   "cell_type": "markdown",
   "id": "11facfa6",
   "metadata": {},
   "source": [
    "- holds an integer count for each key"
   ]
  },
  {
   "cell_type": "code",
   "execution_count": 12,
   "id": "81c512c5",
   "metadata": {},
   "outputs": [
    {
     "data": {
      "text/plain": [
       "Counter({'r': 2, 'a': 2, 'c': 2, 'e': 1})"
      ]
     },
     "execution_count": 12,
     "metadata": {},
     "output_type": "execute_result"
    }
   ],
   "source": [
    "from collections import Counter\n",
    "counter = Counter(\"racecar\")\n",
    "counter"
   ]
  },
  {
   "cell_type": "markdown",
   "id": "e5c6a70e",
   "metadata": {},
   "source": [
    "### collections.UserDict"
   ]
  },
  {
   "cell_type": "markdown",
   "id": "4b9e139d",
   "metadata": {},
   "source": [
    "- designed to be subclassed and implemented by the user"
   ]
  },
  {
   "cell_type": "markdown",
   "id": "350916e4",
   "metadata": {},
   "source": [
    "# Set and frozenset"
   ]
  },
  {
   "cell_type": "markdown",
   "id": "b5c0b56a",
   "metadata": {},
   "source": [
    "- collection of unique objects\n",
    "- set elements must be hashable. The set type is not hashable, but frozenset is. Hence we can have frozenset elements in a set\n",
    "- set operations given two sets a and b:  \n",
    "    a | b -> union  \n",
    "    a & b -> intersection  \n",
    "    a - b -> difference  \n",
    "- using these oprations reduce line count, execution of the program and makes the code easier to read"
   ]
  },
  {
   "cell_type": "code",
   "execution_count": 13,
   "id": "781c793e",
   "metadata": {},
   "outputs": [
    {
     "name": "stdout",
     "output_type": "stream",
     "text": [
      "{1, 2, 3}\n",
      "{1, 2, 3}\n",
      "{frozenset({1, 2, 3}), 1, 2, 3}\n"
     ]
    }
   ],
   "source": [
    "# example set\n",
    "s = set([1,1, 2,2, 3,3])\n",
    "print(s)\n",
    "\n",
    "s2 = {1,1,2,2,3,3}\n",
    "print(s2)\n",
    "\n",
    "s3 = {1,1,2,2,3,3, frozenset([1,1, 2,2, 3,3])}\n",
    "print(s3)"
   ]
  },
  {
   "cell_type": "markdown",
   "id": "4cc39477",
   "metadata": {},
   "source": [
    "- for example let's say we have a large set of e-mails (haystack) and a smaller set of addresses (needles) and we need to count how many of the needles occur in the haystack"
   ]
  },
  {
   "cell_type": "raw",
   "id": "7ed8b50c",
   "metadata": {},
   "source": [
    "found = len(needles & haystack) # faster due to underlying hash tables"
   ]
  },
  {
   "cell_type": "markdown",
   "id": "8a673bef",
   "metadata": {},
   "source": [
    "- without intersection the code would look something like:"
   ]
  },
  {
   "cell_type": "raw",
   "id": "9d1dde03",
   "metadata": {},
   "source": [
    "found = 0\n",
    "for n in needles:\n",
    "    if n in haystack:\n",
    "        found += 1\n",
    "\n",
    "# ... which is also slower"
   ]
  },
  {
   "cell_type": "markdown",
   "id": "9091a737",
   "metadata": {},
   "source": [
    "### Set comprehenstion"
   ]
  },
  {
   "cell_type": "code",
   "execution_count": 14,
   "id": "cf385ead",
   "metadata": {},
   "outputs": [
    {
     "data": {
      "text/plain": [
       "{'¢', '£', '¤', '¥', '§', '©', '¬', '®', '°', '±', 'µ', '¶', '×', '÷'}"
      ]
     },
     "execution_count": 14,
     "metadata": {},
     "output_type": "execute_result"
    }
   ],
   "source": [
    "from unicodedata import name\n",
    "\n",
    "# obtain character names using name function\n",
    "# build a set of characters with codes from 100 to 255 that have the word 'SIGN' in their names\n",
    "{chr(i) for i in range(100, 255) if \"SIGN\" in name(chr(i), '')}"
   ]
  },
  {
   "cell_type": "markdown",
   "id": "a908a141",
   "metadata": {},
   "source": [
    "# The Hash Table algorithm"
   ]
  },
  {
   "cell_type": "markdown",
   "id": "ac38060f",
   "metadata": {},
   "source": [
    "- hash table is a sparse array, i.e. an array which always has empty cells\n",
    "- cells of the hash table are called **buckets**\n",
    "- in a dict hash table, there is a bucket for each item, and it contains two fields:  \n",
    "    a reference to the key  \n",
    "    a reference to the value of the item\n",
    "- because all buckets have the same size, access to an individual bucket is done by offset"
   ]
  },
  {
   "cell_type": "markdown",
   "id": "0f2281bf",
   "metadata": {},
   "source": [
    "To fetch value at my_dict[search_key], Python calls hash(search_key) to obtain the hash value of search_key and uses the least significant bits of that number as an offset to look up a bucket in the hash table (the number of bits used depends on the current size of the table).\n",
    "\n",
    "If the found bucket is empty, KeyError is raised. Otherwise the found bucket has an item - a found_key:found_value pair - and then Python checks whether search_key == found_key. If they match, found_value is returned.\n",
    "\n",
    "However, if search_key and found_key do not match, this is a hash collision. This happens because a hash function maps arbitrary objects to a small number of bits, and - in addition - the hash table is indexed with subset of those bits. To resolve the collision, the algorithm then takes different bits in the hash, arranges them in particular way and uses the result as an offset to look up a different bucket. If that is empty, KeyError is raised; if not, either the keys match and then the item value is returned, or the collision resolution process is repeated."
   ]
  },
  {
   "cell_type": "markdown",
   "id": "4b2936b6",
   "metadata": {},
   "source": [
    "<img src=\"dict_hash.png\">"
   ]
  },
  {
   "cell_type": "markdown",
   "id": "ad0c192c",
   "metadata": {},
   "source": [
    "# Bonus: inspecting set and dict literals"
   ]
  },
  {
   "cell_type": "markdown",
   "id": "37939dc2",
   "metadata": {},
   "source": [
    "- set syntax: {1}, {1, 2}, etc looks exactly like math notation\n",
    "- with one important exception: there is no literal for an empty set, we always need to specify set()"
   ]
  },
  {
   "cell_type": "code",
   "execution_count": 15,
   "id": "4c76fce4",
   "metadata": {},
   "outputs": [
    {
     "name": "stdout",
     "output_type": "stream",
     "text": [
      "{1} {1, 2}\n",
      "{1} {2}\n",
      "{} <class 'dict'>\n",
      "set() <class 'set'>\n"
     ]
    }
   ],
   "source": [
    "set1, set2 = {1}, {1,2}\n",
    "print(set1, set2)\n",
    "set2.pop()\n",
    "print(set1, set2)\n",
    "\n",
    "not_empty_set = {}\n",
    "print(not_empty_set, type(not_empty_set))\n",
    "\n",
    "empty_set = set()\n",
    "print(empty_set, type(empty_set))"
   ]
  },
  {
   "cell_type": "markdown",
   "id": "08198d6b",
   "metadata": {},
   "source": [
    "- using the literal is both faster and more readable than calling the constructor\n",
    "- calling the constructor is slower because Python has to:  \n",
    "    1) look up the set name to fetch the constructor  \n",
    "    2) then build a list  \n",
    "    3) and finally pass it to the constructor\n",
    "    \n",
    "- in contrast, to process the literal Python runs a specialized BUILD_SET bytecode"
   ]
  },
  {
   "cell_type": "code",
   "execution_count": 16,
   "id": "0cdcd9e3",
   "metadata": {},
   "outputs": [
    {
     "name": "stdout",
     "output_type": "stream",
     "text": [
      "  1           0 LOAD_CONST               0 (1)\n",
      "              2 BUILD_SET                1\n",
      "              4 RETURN_VALUE\n"
     ]
    }
   ],
   "source": [
    "from dis import dis\n",
    "\n",
    "dis('{1}') # literal"
   ]
  },
  {
   "cell_type": "code",
   "execution_count": 17,
   "id": "11724111",
   "metadata": {},
   "outputs": [
    {
     "name": "stdout",
     "output_type": "stream",
     "text": [
      "  1           0 LOAD_NAME                0 (set)\n",
      "              2 LOAD_CONST               0 (1)\n",
      "              4 BUILD_LIST               1\n",
      "              6 CALL_FUNCTION            1\n",
      "              8 RETURN_VALUE\n"
     ]
    }
   ],
   "source": [
    "dis('set([1])') # constructor"
   ]
  },
  {
   "cell_type": "markdown",
   "id": "4e4deef6",
   "metadata": {},
   "source": [
    "### Similar applies to dict literals"
   ]
  },
  {
   "cell_type": "code",
   "execution_count": 18,
   "id": "e4398d00",
   "metadata": {},
   "outputs": [
    {
     "name": "stdout",
     "output_type": "stream",
     "text": [
      "  1           0 LOAD_CONST               0 (1)\n",
      "              2 LOAD_CONST               1 (2)\n",
      "              4 LOAD_CONST               2 (('one', 'two'))\n",
      "              6 BUILD_CONST_KEY_MAP      2\n",
      "              8 RETURN_VALUE\n"
     ]
    }
   ],
   "source": [
    "dis('{\"one\": 1, \"two\": 2}')"
   ]
  },
  {
   "cell_type": "code",
   "execution_count": 19,
   "id": "e693ad84",
   "metadata": {},
   "outputs": [
    {
     "name": "stdout",
     "output_type": "stream",
     "text": [
      "  1           0 LOAD_NAME                0 (dict)\n",
      "              2 LOAD_CONST               0 (('two', 2))\n",
      "              4 LOAD_CONST               1 (('one', 1))\n",
      "              6 BUILD_LIST               2\n",
      "              8 CALL_FUNCTION            1\n",
      "             10 RETURN_VALUE\n"
     ]
    }
   ],
   "source": [
    "dis('dict([(\"two\", 2), (\"one\", 1)])')"
   ]
  }
 ],
 "metadata": {
  "kernelspec": {
   "display_name": "Python 3 (ipykernel)",
   "language": "python",
   "name": "python3"
  },
  "language_info": {
   "codemirror_mode": {
    "name": "ipython",
    "version": 3
   },
   "file_extension": ".py",
   "mimetype": "text/x-python",
   "name": "python",
   "nbconvert_exporter": "python",
   "pygments_lexer": "ipython3",
   "version": "3.9.12"
  }
 },
 "nbformat": 4,
 "nbformat_minor": 5
}
