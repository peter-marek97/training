{
 "cells": [
  {
   "cell_type": "markdown",
   "id": "0ae698b1",
   "metadata": {},
   "source": [
    "<center> <h1>Metaclasses Demo</h1> </center>"
   ]
  },
  {
   "cell_type": "markdown",
   "id": "5f0dbe1c",
   "metadata": {},
   "source": [
    "### First-class objects\n",
    "- An entity that can be constructed at run-time, passed as a parameter, returned from a function, or assigned into a variable"
   ]
  },
  {
   "cell_type": "code",
   "execution_count": null,
   "id": "6f94be15",
   "metadata": {},
   "outputs": [],
   "source": [
    "class ExampleClass:\n",
    "    pass\n",
    "\n",
    "def return_class():\n",
    "    class ClassFromFunction:\n",
    "        pass\n",
    "    \n",
    "    return ClassFromFunction\n",
    "\n",
    "from_func = return_class()\n",
    "example_class = ExampleClass\n",
    "\n",
    "print(from_func)\n",
    "print(example_class)"
   ]
  },
  {
   "cell_type": "markdown",
   "id": "db52c27d",
   "metadata": {},
   "source": [
    "#### We can create an instance of the classes"
   ]
  },
  {
   "cell_type": "code",
   "execution_count": null,
   "id": "9972316a",
   "metadata": {},
   "outputs": [],
   "source": [
    "instance_class_from_func = return_class()()\n",
    "instance_example_class = ExampleClass()\n",
    "print(instance_class_from_func)\n",
    "print(instance_example_class)"
   ]
  },
  {
   "cell_type": "markdown",
   "id": "56656f22",
   "metadata": {},
   "source": [
    "#### And also assign attributes"
   ]
  },
  {
   "cell_type": "code",
   "execution_count": null,
   "id": "7aea745c",
   "metadata": {},
   "outputs": [],
   "source": [
    "instance_class_from_func.attr1 = \"My attribute 1\"\n",
    "instance_example_class.attr2 = \"My attribute 2\"\n",
    "print(f\"Attribute from ClassFromFunction: {instance_class_from_func.attr1}\")\n",
    "print(f\"Attribute from ExampleClass :{instance_example_class.attr2}\")"
   ]
  },
  {
   "cell_type": "markdown",
   "id": "5b294b97",
   "metadata": {},
   "source": [
    "<center> <h1>Class vs Metaclass</h1> </center>"
   ]
  },
  {
   "cell_type": "markdown",
   "id": "fff7ced0",
   "metadata": {},
   "source": [
    "<b>Classes</b> allow us to create instances of the class. Classes define <b>rules for an object:</b> attributes, methods or operations associated with the class  \n",
    "\n",
    "Since class is an object itself, there needs to be some higher-level class that creates it.\n",
    "\n",
    "<b>Metaclass</b> defines <b>rules for a class</b> - Metaclass controls the creation of the class  \n",
    "- The main purpose of a metaclass is to change the class automatically, when it's created."
   ]
  },
  {
   "cell_type": "code",
   "execution_count": null,
   "id": "8cec07fd",
   "metadata": {},
   "outputs": [],
   "source": [
    "# every object in Python has a type\n",
    "print(f'{type({\"dict_key\": 1})=}')\n",
    "print(f'{type([1,2])=}')\n",
    "print(f'{type((1,2))=}')\n",
    "print(f'{type(ExampleClass())=}') # instance of a class\n",
    "# same applies to integers, strings..."
   ]
  },
  {
   "cell_type": "code",
   "execution_count": null,
   "id": "52d810fb",
   "metadata": {},
   "outputs": [],
   "source": [
    "# classes are object too, so what's their type?\n",
    "print(f'{type(dict)=}') \n",
    "print(f'{type(list)=}')\n",
    "print(f'{type(tuple)=}')\n",
    "print(f'{type(ExampleClass)=}')"
   ]
  },
  {
   "cell_type": "markdown",
   "id": "03bd652e",
   "metadata": {},
   "source": [
    "For instance:\n",
    "- [1,2] is an instance of a **list**, and list is an instance of a **type**\n",
    "- Number 100 is an instance of an **int**, and int is an instance of a **type**"
   ]
  },
  {
   "cell_type": "code",
   "execution_count": null,
   "id": "611052be",
   "metadata": {},
   "outputs": [],
   "source": [
    "# At runtime we can create new list object by using list()\n",
    "# or a new type object by using type()\n",
    "my_list = list()\n",
    "print(f'{my_list=}')\n",
    "\n",
    "new_class = type(\"NewClass\", (), {})\n",
    "print(f\"{new_class=}\")"
   ]
  },
  {
   "cell_type": "markdown",
   "id": "aa93bcf7",
   "metadata": {},
   "source": [
    "<center> <h2>'class' definition is just a syntactic sugar for calling 'type' constructor </h2> </center>"
   ]
  },
  {
   "cell_type": "markdown",
   "id": "6af6812d",
   "metadata": {},
   "source": [
    "**type(name, bases, namespace)**\n",
    "- name (String): name of the class to be created\n",
    "- bases (Tuple): bases that the class is inheriting from\n",
    "- namespace (Dict): definitions of the class body"
   ]
  },
  {
   "cell_type": "code",
   "execution_count": null,
   "id": "56b25830",
   "metadata": {},
   "outputs": [],
   "source": [
    "# Consider the following \"normal\" class example\n",
    "class MyNewClass:\n",
    "    attr1 = 100\n",
    "    attr2 = \"My string\"\n",
    "\n",
    "    def return_tuple(self):\n",
    "        return (1,2)\n",
    "    \n",
    "    @staticmethod\n",
    "    def return_list():\n",
    "        return [1,2]\n",
    "    \n",
    "    \n",
    "instance = MyNewClass()\n",
    "print(f\"{instance=}\")\n",
    "print(f\"{instance.attr1=}\")\n",
    "print(f\"{instance.attr2=}\")\n",
    "print(f\"{instance.return_tuple()=}\")\n",
    "print(f\"{instance.return_list()=}\")"
   ]
  },
  {
   "cell_type": "code",
   "execution_count": null,
   "id": "3592dc47",
   "metadata": {},
   "outputs": [],
   "source": [
    "# what happens behind the scenes\n",
    "def behind_the_scenes():\n",
    "    name = 'MyNewClass1'\n",
    "    bases = () # e.g. inherit Parent class --> (Parent,) - must be tuple, hence with the comma\n",
    "    \n",
    "    def return_tuple(self):\n",
    "        return (1,2)\n",
    "    \n",
    "    @staticmethod\n",
    "    def return_list():\n",
    "        return [1,2]\n",
    "    \n",
    "    namespace = {\n",
    "        \"attr1\": 100,\n",
    "        \"attr2\": \"My string\",\n",
    "        \"return_tuple\":return_tuple,\n",
    "        \"return_list\":return_list\n",
    "    }\n",
    "    return type(name, bases, namespace)\n",
    "\n",
    "instance = behind_the_scenes()()\n",
    "print(f\"{instance=}\")\n",
    "print(f\"{instance.attr1=}\")\n",
    "print(f\"{instance.attr2=}\")\n",
    "print(f\"{instance.return_tuple()=}\")\n",
    "print(f\"{instance.return_list()=}\")"
   ]
  },
  {
   "cell_type": "code",
   "execution_count": null,
   "id": "499e4ae9",
   "metadata": {},
   "outputs": [],
   "source": [
    "# what REALLY happens behind the scenes\n",
    "def more_behind_the_scenes():\n",
    "    name = 'MyNewClass2'\n",
    "    bases = ()\n",
    "    namespace = type.__prepare__(name, bases) # class' namespace/class dictionary is prepared\n",
    "    body = (# yes, the indentation below must be like this for some reason, otherwise it throws Indentation Err\n",
    "\"\"\"\n",
    "attr1 = 100\n",
    "attr2 = \"My string\"\n",
    "\n",
    "def return_tuple(self):\n",
    "    return (1,2)\n",
    "    \n",
    "@staticmethod\n",
    "def return_list():\n",
    "    return [1,2]\n",
    "\"\"\"\n",
    "    )\n",
    "    exec(body, globals(), namespace)\n",
    "    # The class's body is simply treated as code, which gets executed directly in this new dictionary namespace\n",
    "    return type(name, bases, namespace)\n",
    "        \n",
    "instance = more_behind_the_scenes()()\n",
    "print(f\"{instance=}\")\n",
    "print(f\"{instance.attr1=}\")\n",
    "print(f\"{instance.attr2=}\")\n",
    "print(f\"{instance.return_tuple()=}\")\n",
    "print(f\"{instance.return_list()=}\")\n"
   ]
  },
  {
   "cell_type": "markdown",
   "id": "4af45487",
   "metadata": {},
   "source": [
    "By specifying a custom Metaclass, we can control things such as how the class namespace is created using __prepare__ or things that happen in the __init__ or __new__ methods of the metaclass."
   ]
  },
  {
   "cell_type": "code",
   "execution_count": null,
   "id": "b588a860",
   "metadata": {},
   "outputs": [],
   "source": [
    "# the default Metaclass of a class is type\n",
    "class WithDefaultMeta:\n",
    "    pass\n",
    "\n",
    "print(f\"{type(WithDefaultMeta)=}\") # type of WithDefaultMeta is type\n",
    "print(f\"{WithDefaultMeta.__class__=}\")\n",
    "print(f\"{type(WithDefaultMeta())=}\") # type of instance of class is WithDefaultMeta"
   ]
  },
  {
   "cell_type": "markdown",
   "id": "76588eae",
   "metadata": {},
   "source": [
    "#### Metaclass is just the type of a type or the class of a class."
   ]
  },
  {
   "cell_type": "code",
   "execution_count": null,
   "id": "46ffe0c4",
   "metadata": {},
   "outputs": [],
   "source": [
    "class CustomMeta(type): # needs to inherit from type, otherwise TypeErr\n",
    "    pass\n",
    "\n",
    "class WithCustomMeta(metaclass=CustomMeta):\n",
    "    pass\n",
    "\n",
    "print(f\"{type(WithCustomMeta)=}\") # Now type of WithCustomMeta is CustomMeta\n",
    "print(f\"{WithCustomMeta.__class__=}\")\n",
    "print(f\"{type(WithCustomMeta())=}\")"
   ]
  },
  {
   "cell_type": "markdown",
   "id": "7e65cb8f",
   "metadata": {},
   "source": [
    "**A Metaclass itself is quite simple:**  \n",
    " - intercepts a class creation\n",
    " - modifies the class\n",
    " - returns the modified class"
   ]
  },
  {
   "cell_type": "code",
   "execution_count": null,
   "id": "8a40283b",
   "metadata": {},
   "outputs": [],
   "source": [
    "# Let's say we want to:\n",
    "# 1) Add an \"created_at\" attribute for each class instance\n",
    "# 2) Automatically have a \"return_owner\" method that returns the owner\n",
    "# 3) Intercept __init__ of the AnotherClass\n",
    "# for each class that uses our custom \"ExampleMeta\" Metaclass\n",
    "from datetime import datetime\n",
    "\n",
    "def return_owner(self):\n",
    "    return \"Owned by EDF\"\n",
    "\n",
    "def __custom_init__(self, description):\n",
    "    self.description = description\n",
    "    \n",
    "# Note:\n",
    "# You can have a metaclass, inheriting from other metaclasses, inheriting from type\n",
    "class ExampleMeta(type):\n",
    "    def __new__(mcls, name, bases, namespace):\n",
    "        namespace[\"created_at\"] = datetime.utcnow()\n",
    "        namespace[\"return_owner\"] = return_owner\n",
    "        \n",
    "        # calling __new__ from the parent's type class\n",
    "        return super().__new__(mcls, name, bases, namespace)\n",
    "    \n",
    "    def __call__(cls, *args, **kwargs):\n",
    "        print(f\"{args=}\")\n",
    "        print(f\"{kwargs=}\")\n",
    "        if kwargs:\n",
    "            kwargs[\"description\"] = \"Intercepted \" + kwargs[\"description\"]\n",
    "            if kwargs[\"max_value\"] > 100:\n",
    "                raise Exception(\"Number greater than 100 not allowed\")\n",
    "        return super().__call__(*args, **kwargs)\n",
    "    \n",
    "\n",
    "class AnotherClass(metaclass=ExampleMeta):\n",
    "    def __init__(self, description, max_value):\n",
    "        self.description = description\n",
    "        self.max_value = max_value\n",
    "\n",
    "instance = AnotherClass(description=\"Class description\", max_value=100)\n",
    "print(f'{hasattr(instance, \"created_at\")=}')\n",
    "print(f'{hasattr(instance, \"return_owner\")=}')\n",
    "print(f\"{instance.created_at=}\")\n",
    "print(f\"{instance.return_owner()=}\")\n",
    "print(f\"{instance.description=}\")\n",
    "print(f\"{instance.max_value=}\")"
   ]
  },
  {
   "cell_type": "markdown",
   "id": "e7375241",
   "metadata": {},
   "source": [
    "### There is a huge problem in the way we intercept the init method and how the arguments are passed to the AnotherClass"
   ]
  },
  {
   "cell_type": "markdown",
   "id": "d19a660b",
   "metadata": {},
   "source": [
    "1) Nothing is stoping the users from pasing positional arguments\n",
    " - **our init method interception in the Metaclass doesn't work!**"
   ]
  },
  {
   "cell_type": "code",
   "execution_count": null,
   "id": "51abe2ba",
   "metadata": {},
   "outputs": [],
   "source": [
    "instance = AnotherClass(\"Class description\", 101)\n",
    "print(f'{hasattr(instance, \"created_at\")=}')\n",
    "print(f'{hasattr(instance, \"return_owner\")=}')\n",
    "print(f\"{instance.created_at=}\")\n",
    "print(f\"{instance.return_owner()=}\")\n",
    "print(f\"{instance.description=}\") # not intercepted\n",
    "print(f\"{instance.max_value=}\") # not intercepted, value greater than 100 which is not allowed!"
   ]
  },
  {
   "cell_type": "markdown",
   "id": "8f0a5e46",
   "metadata": {},
   "source": [
    "2) Nothing is stopping the users from messing up the arguments completely\n",
    " - **passing someting else than a number to max_value for example**"
   ]
  },
  {
   "cell_type": "code",
   "execution_count": null,
   "id": "d72dc11b",
   "metadata": {},
   "outputs": [],
   "source": [
    "instance = AnotherClass(101, \"Class description\")\n",
    "print(f'{hasattr(instance, \"created_at\")=}')\n",
    "print(f'{hasattr(instance, \"return_owner\")=}')\n",
    "print(f\"{instance.created_at=}\")\n",
    "print(f\"{instance.return_owner()=}\")\n",
    "print(f\"{instance.description=}\") # this should not be a number\n",
    "print(f\"{instance.max_value=}\") # this certainly should not be a string"
   ]
  },
  {
   "cell_type": "markdown",
   "id": "f19dfc52",
   "metadata": {},
   "source": [
    "#### Metaclasses imply having complete control over the classes that are created by the Metaclass\n",
    " - restricting users from passing positional arguments and allowing keyword-only arguments for AnotherClass (we covered this in last training session)\n",
    " - fixing the call method in our Metaclass"
   ]
  },
  {
   "cell_type": "code",
   "execution_count": null,
   "id": "eb09821d",
   "metadata": {},
   "outputs": [],
   "source": [
    "class ExampleMeta(type):\n",
    "    def __new__(mcls, name, bases, namespace):\n",
    "        namespace[\"created_at\"] = datetime.utcnow()\n",
    "        namespace[\"return_owner\"] = return_owner\n",
    "        \n",
    "        # calling __new__ from the parent's type class\n",
    "        return super().__new__(mcls, name, bases, namespace)\n",
    "    \n",
    "    # args are never passed since we changed the AnotherClass to only allow keyword-only arguments\n",
    "    def __call__(cls, **kwargs): \n",
    "        print(f\"{kwargs=}\")\n",
    "        # don't need if statement to verify kwargs are not empty as they will never be empty from now on\n",
    "        # and our interception will always take effect\n",
    "        kwargs[\"description\"] = \"Intercepted \" + kwargs[\"description\"]\n",
    "        if kwargs[\"max_value\"] > 100:\n",
    "            raise Exception(\"Number greater than 100 not allowed\")\n",
    "        return super().__call__(**kwargs)\n",
    "    \n",
    "\n",
    "class AnotherClass(metaclass=ExampleMeta):\n",
    "    # Everything after the * means ONLY keyword-only arguments are allowed\n",
    "    def __init__(self, * , description, max_value):\n",
    "        self.description = description\n",
    "        self.max_value = max_value\n",
    "\n",
    "instance = AnotherClass(description=\"Class description\", max_value=100)\n",
    "\n",
    "# order doesn't matter now as we can only pass keyword-only arguments\n",
    "#instance = AnotherClass(max_value=100, description=\"Class description\")\n",
    "\n",
    "# instance = AnotherClass(\"Class description\", 101) throws TypeError now!\n",
    "\n",
    "print(\"---------\")\n",
    "print(f'{hasattr(instance, \"created_at\")=}')\n",
    "print(f'{hasattr(instance, \"return_owner\")=}')\n",
    "print(f\"{instance.created_at=}\")\n",
    "print(f\"{instance.return_owner()=}\")\n",
    "print(f\"{instance.description=}\")\n",
    "print(f\"{instance.max_value=}\")"
   ]
  },
  {
   "cell_type": "markdown",
   "id": "392bc580",
   "metadata": {},
   "source": [
    "#### The very last part is how do we **force** users to make those init agruments keyword only?\n",
    "How do we make them manually put the * in front of the arguments in the init method exactly as above?\n",
    "- we create a guard in the double-underscore **new** method of the Metaclass as that method is responsible for **creating** classes"
   ]
  },
  {
   "cell_type": "code",
   "execution_count": null,
   "id": "68433410",
   "metadata": {},
   "outputs": [],
   "source": [
    "import inspect\n",
    "\n",
    "class ExampleMeta(type):\n",
    "    def __new__(mcls, name, bases, namespace):\n",
    "        namespace[\"created_at\"] = datetime.utcnow()\n",
    "        namespace[\"return_owner\"] = return_owner\n",
    "        \n",
    "        init_params = inspect.signature(namespace[\"__init__\"]).parameters\n",
    "        for param in init_params:\n",
    "            if param == \"self\": continue\n",
    "            print(param, init_params[param].kind)\n",
    "            if str(init_params[param].kind) != \"KEYWORD_ONLY\":\n",
    "                raise Exception(\"Only keyword arguments allowed for __init__ method!\")\n",
    "        \n",
    "        # calling __new__ from the parent's type class\n",
    "        return super().__new__(mcls, name, bases, namespace)\n",
    "    \n",
    "    # args are never passed since we changed the AnotherClass to only allow keyword-only arguments\n",
    "    def __call__(cls, **kwargs): \n",
    "        print(f\"{kwargs=}\")\n",
    "        # don't need if statement to verify kwargs are not empty as they will never be empty from now on\n",
    "        # and our interception will always take effect\n",
    "        kwargs[\"description\"] = \"Intercepted \" + kwargs[\"description\"]\n",
    "        if kwargs[\"max_value\"] > 100:\n",
    "            raise Exception(\"Number greater than 100 not allowed\")\n",
    "        return super().__call__(**kwargs)\n",
    "    \n",
    "\n",
    "class AnotherClass(metaclass=ExampleMeta):\n",
    "    # Everything after the * means ONLY keyword-only arguments are allowed\n",
    "    def __init__(self, * , description: str, max_value: int):\n",
    "        self.description = description\n",
    "        self.max_value = max_value\n",
    "        \n",
    "\n",
    "instance = AnotherClass(description=\"Class description\", max_value=100)\n",
    "\n",
    "# order doesn't matter now as we can only pass keyword-only arguments\n",
    "#instance = AnotherClass(max_value=100, description=\"Class description\")\n",
    "\n",
    "# instance = AnotherClass(\"Class description\", 101) throws TypeError now!\n",
    "\n",
    "print(\"---------\")\n",
    "print(f'{hasattr(instance, \"created_at\")=}')\n",
    "print(f'{hasattr(instance, \"return_owner\")=}')\n",
    "print(f\"{instance.created_at=}\")\n",
    "print(f\"{instance.return_owner()=}\")\n",
    "print(f\"{instance.description=}\")\n",
    "print(f\"{instance.max_value=}\")"
   ]
  },
  {
   "cell_type": "markdown",
   "id": "f871a840",
   "metadata": {},
   "source": [
    "#### If they don't make the init arguments keyword-only, the Metaclass won't allow them to create their class and exception is raised"
   ]
  },
  {
   "cell_type": "code",
   "execution_count": null,
   "id": "56fd5ed0",
   "metadata": {},
   "outputs": [],
   "source": [
    "class AnotherClass(metaclass=ExampleMeta): # Throws Exception from the Metaclass!\n",
    "    # Everything after the * means ONLY keyword-only arguments are allowed\n",
    "    def __init__(self, description: str, max_value: int):\n",
    "        self.description = description\n",
    "        self.max_value = max_value\n",
    "        \n",
    "print(\"---------\")\n",
    "print(f'{hasattr(instance, \"created_at\")=}')\n",
    "print(f'{hasattr(instance, \"return_owner\")=}')\n",
    "print(f\"{instance.created_at=}\")\n",
    "print(f\"{instance.return_owner()=}\")\n",
    "print(f\"{instance.description=}\")\n",
    "print(f\"{instance.max_value=}\")"
   ]
  }
 ],
 "metadata": {
  "kernelspec": {
   "display_name": "Python 3 (ipykernel)",
   "language": "python",
   "name": "python3"
  },
  "language_info": {
   "codemirror_mode": {
    "name": "ipython",
    "version": 3
   },
   "file_extension": ".py",
   "mimetype": "text/x-python",
   "name": "python",
   "nbconvert_exporter": "python",
   "pygments_lexer": "ipython3",
   "version": "3.9.12"
  }
 },
 "nbformat": 4,
 "nbformat_minor": 5
}
