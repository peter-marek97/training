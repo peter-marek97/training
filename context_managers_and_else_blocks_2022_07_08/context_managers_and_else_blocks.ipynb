{
 "cells": [
  {
   "cell_type": "markdown",
   "id": "4140dfe4",
   "metadata": {},
   "source": [
    "<h1><center>Context Managers and Else blocks</center></h1>"
   ]
  },
  {
   "cell_type": "markdown",
   "id": "5ea14e0f",
   "metadata": {},
   "source": [
    "#### Book: Fluent Python https://www.amazon.co.uk/Fluent-Python-Luciano-Ramalho/dp/1491946008\n",
    "**Chapter:** Part V. Control flow - Chapter 15. Context Managers and else blocks"
   ]
  },
  {
   "cell_type": "markdown",
   "id": "1f7dc5da",
   "metadata": {},
   "source": [
    "The subjects of this chapter are control flow features that are commonly overlooked or underused features in Python  \n",
    "- The **with** statement and context managers\n",
    "- the **else** clause in **for**, **while** and **try** statements"
   ]
  },
  {
   "cell_type": "markdown",
   "id": "ab08213b",
   "metadata": {},
   "source": [
    "## Else blocks beyond if"
   ]
  },
  {
   "cell_type": "markdown",
   "id": "84ef82b3",
   "metadata": {},
   "source": [
    "The meaning of for/else, while/else and try/else are closely related, but very different from if/else"
   ]
  },
  {
   "cell_type": "markdown",
   "id": "987450cb",
   "metadata": {},
   "source": [
    "### For/else"
   ]
  },
  {
   "cell_type": "markdown",
   "id": "a5fb5af3",
   "metadata": {},
   "source": [
    "- The <em>else</em> block will run only if and when the for loop runs to completion, i.e. not if the for is aborted with a break"
   ]
  },
  {
   "cell_type": "code",
   "execution_count": null,
   "id": "1457b6a2",
   "metadata": {},
   "outputs": [],
   "source": [
    "for i in range(3):\n",
    "    print(i)\n",
    "else:\n",
    "    print(\"else block executed\")\n",
    "    \n",
    "print(\"outside of the for/else\")"
   ]
  },
  {
   "cell_type": "code",
   "execution_count": null,
   "id": "6fc0edd7",
   "metadata": {},
   "outputs": [],
   "source": [
    "for i in range(3):\n",
    "    print(i)\n",
    "    if i == 1:\n",
    "        print(\"breaking out of the loop\")\n",
    "        break\n",
    "else:\n",
    "    print(\"else block executed\")\n",
    "    \n",
    "print(\"outside of the for/else\")"
   ]
  },
  {
   "cell_type": "markdown",
   "id": "e6add418",
   "metadata": {},
   "source": [
    "### While/else"
   ]
  },
  {
   "cell_type": "markdown",
   "id": "8b63ea6a",
   "metadata": {},
   "source": [
    "- the <em>else</em> block will run only if and when the while loop exits because the condition became <em>falsy</em>; i.e. not when the while is aborted with a break"
   ]
  },
  {
   "cell_type": "code",
   "execution_count": null,
   "id": "5f079cda",
   "metadata": {},
   "outputs": [],
   "source": [
    "x = 0\n",
    "while x <= 3:\n",
    "    print(x)\n",
    "    x += 1\n",
    "else:\n",
    "    print(\"else block executed\")\n",
    "\n",
    "print(\"outside of the while/else\")"
   ]
  },
  {
   "cell_type": "code",
   "execution_count": null,
   "id": "565036fe",
   "metadata": {},
   "outputs": [],
   "source": [
    "x = 0\n",
    "while x <= 3:\n",
    "    print(x)\n",
    "    if x == 2:\n",
    "        print(\"breaking out of the loop\")\n",
    "        break\n",
    "    x += 1\n",
    "else:\n",
    "    print(\"else block executed\")\n",
    "    \n",
    "print(\"outside of the while/else\")"
   ]
  },
  {
   "cell_type": "markdown",
   "id": "cc7d5fc7",
   "metadata": {},
   "source": [
    "### Try/else"
   ]
  },
  {
   "cell_type": "markdown",
   "id": "8809a466",
   "metadata": {},
   "source": [
    "- The <em>else</em> block will only run if no exception is raised in the try block. Also, the official docs say \"Exceptions in the else clause are not handled by the preciding <em>except</em> clauses\""
   ]
  },
  {
   "cell_type": "code",
   "execution_count": null,
   "id": "b9b0b492",
   "metadata": {},
   "outputs": [],
   "source": [
    "try:\n",
    "    print(\"running dangerous code\")\n",
    "except ValueError:\n",
    "    print(\"Exception handled\")\n",
    "else:\n",
    "    print(\"else block executed\")\n",
    "    \n",
    "print(\"outside of the try/else\")"
   ]
  },
  {
   "cell_type": "code",
   "execution_count": null,
   "id": "09b25d15",
   "metadata": {},
   "outputs": [],
   "source": [
    "try:\n",
    "    print(\"running dangerous code\")\n",
    "    raise ValueError(\"something bad happened...\")\n",
    "except ValueError:\n",
    "    print(\"ValueError exception handled\")\n",
    "else:\n",
    "    print(\"else block executed\")\n",
    "    \n",
    "print(\"outside of the try/else\")"
   ]
  },
  {
   "cell_type": "markdown",
   "id": "735277ed",
   "metadata": {},
   "source": [
    "In Python, ***try/except*** is commonly used for control flow, not just for error handling\n",
    "- There are  two famous acronyms/slogans that originated from this:  \n",
    "1) EAFP -> \"Easier to ask for forgiveness than permission\"  \n",
    "2) LBYL -> \"Look before you leap\""
   ]
  },
  {
   "cell_type": "code",
   "execution_count": null,
   "id": "ce5d6564",
   "metadata": {},
   "outputs": [],
   "source": [
    "def dangerous_call(num):\n",
    "    return 2/num\n",
    "\n",
    "def after_call():\n",
    "    print(\"all good\")\n",
    "    \n",
    "try:\n",
    "    dangerous_call(1)\n",
    "    after_call() # this code should be in else block\n",
    "except ZeroDivisionError:\n",
    "    print(\"ZeroDivisionError exception handled\")\n",
    "else:\n",
    "    print(\"else block executed\")\n",
    "    \n",
    "print(\"outside of the try/else\")"
   ]
  },
  {
   "cell_type": "markdown",
   "id": "38a2b7fd",
   "metadata": {},
   "source": [
    "The better way of controling our flow is to execute the after call in the else method, because it would only ever be executed if the dangereous code call succeeds. \n",
    "\n",
    "And now it's clear that the try block is ***guarding*** against possible errors in ***dangerous_call()*** and not in ***after_call()***. It is also more obvious that ***after_call()*** will only execute if no exception is raised in the try block"
   ]
  },
  {
   "cell_type": "code",
   "execution_count": null,
   "id": "0b6c542a",
   "metadata": {},
   "outputs": [],
   "source": [
    "try:\n",
    "    dangerous_call(1)\n",
    "except ZeroDivisionError:\n",
    "    print(\"ZeroDivisionError exception handled\")\n",
    "else: # else is run only if the code in the try block succeeds\n",
    "    after_call()\n",
    "    print(\"else block executed\")\n",
    "    \n",
    "print(\"outside of the try/else\")"
   ]
  },
  {
   "cell_type": "markdown",
   "id": "c3b57f76",
   "metadata": {},
   "source": [
    "## Context Managers"
   ]
  },
  {
   "cell_type": "markdown",
   "id": "9d606991",
   "metadata": {},
   "source": [
    "Context manager objects exist to control a <em>with</em> statement, just like iterators exist to control a <em>for</em> statement"
   ]
  },
  {
   "cell_type": "markdown",
   "id": "e582f484",
   "metadata": {},
   "source": [
    "The ***with*** statement was designed to simplify ***try/finally*** pattern which guarantees that some operation is performed after a block of code, even when exception is raised, a ***return*** or ***sys.exit()*** call. The code in ***finally*** clause usually releases critical resource or restores some previous state that was temporarily changed.\n",
    "    "
   ]
  },
  {
   "cell_type": "raw",
   "id": "086d9a0b",
   "metadata": {},
   "source": [
    "The context manager protocol consists of the __enter__ and __exit__ method."
   ]
  },
  {
   "cell_type": "raw",
   "id": "541ab214",
   "metadata": {},
   "source": [
    "Order of invocation/execution:\n",
    "1) at the start of the with block, the __init__ (if implemented) and __enter__ is invoked on the context manager object\n",
    "2) the body of the context manager is executed next\n",
    "3) at the end of the with block, the __exit__ is called"
   ]
  },
  {
   "cell_type": "code",
   "execution_count": null,
   "id": "aae11348",
   "metadata": {},
   "outputs": [],
   "source": [
    "with open('my_file.txt', 'w') as opened_file:\n",
    "    opened_file.write('Hola!')\n",
    "    my_var = 1\n",
    "\n",
    "print(my_var)\n",
    "print(opened_file)\n",
    "opened_file.closed"
   ]
  },
  {
   "cell_type": "raw",
   "id": "8edbac6b",
   "metadata": {},
   "source": [
    "1) __enter__ -> variable opened_file is bound to the opened file because the __enter__ method returns self\n",
    "2) body -> write to file\n",
    "3) __exit__ -> closes the file, so we can't perform any I/O operations after end of with block\n",
    "4) the opened_file and my_var variables are still available\n",
    "5) we can read attributes of the opened_file object"
   ]
  },
  {
   "cell_type": "code",
   "execution_count": null,
   "id": "8d570df1",
   "metadata": {},
   "outputs": [],
   "source": [
    "file = open('my_file2.txt', 'w')\n",
    "try:\n",
    "    file.write('Hola!')\n",
    "finally:\n",
    "    file.close()"
   ]
  },
  {
   "cell_type": "markdown",
   "id": "ab87b770",
   "metadata": {},
   "source": [
    "### Class based Context Manager"
   ]
  },
  {
   "cell_type": "code",
   "execution_count": null,
   "id": "6204b045",
   "metadata": {},
   "outputs": [],
   "source": [
    "class FileHandler():\n",
    "    def __init__(self, file_name, method):\n",
    "        self.file_obj = open(file_name, method)\n",
    "    def __enter__(self):\n",
    "        return self.file_obj\n",
    "    def __exit__(self, ex_type, value, traceback):\n",
    "        self.file_obj.close()"
   ]
  },
  {
   "cell_type": "markdown",
   "id": "3e93e125",
   "metadata": {},
   "source": [
    "While comparing it to the first example a lot of boilerplate code is eliminated just by using ***with***. The main advantage of using a with statement is that it makes sure our file is closed without paying attention to how the nested block exits."
   ]
  },
  {
   "cell_type": "code",
   "execution_count": null,
   "id": "3248e786",
   "metadata": {},
   "outputs": [],
   "source": [
    "with FileHandler('my_file3.txt', 'w') as opened_file:\n",
    "    opened_file.write('Hola!')"
   ]
  },
  {
   "cell_type": "raw",
   "id": "1f9589ba",
   "metadata": {},
   "source": [
    "1) It calls the __init__ and then __enter__ method of the File class.\n",
    "2) The __enter__ method opens the file and returns it.\n",
    "3) The opened file handle is passed to opened_file.\n",
    "4) We write to the file using .write().\n",
    "5) The with statement calls the stored __exit__ method.\n",
    "6) The __exit__ method closes the file."
   ]
  },
  {
   "cell_type": "markdown",
   "id": "6d19a479",
   "metadata": {},
   "source": [
    "## Exception Handling"
   ]
  },
  {
   "cell_type": "code",
   "execution_count": null,
   "id": "4bdf6a4a",
   "metadata": {},
   "outputs": [],
   "source": [
    "with FileHandler('my_file4.txt', 'w') as opened_file:\n",
    "    opened_file.write('Hola!')\n",
    "    opened_file.undefined_function('Oops')"
   ]
  },
  {
   "cell_type": "raw",
   "id": "bd3962d5",
   "metadata": {},
   "source": [
    "In our case the __exit__ method returns None (when no return statement is encountered then the method returns None by default). Therefore, the with statement raises the exception"
   ]
  },
  {
   "cell_type": "raw",
   "id": "07178a86",
   "metadata": {},
   "source": [
    "In the case below the __exit__ method returns False. Same as None, the with statement raises the exception"
   ]
  },
  {
   "cell_type": "code",
   "execution_count": null,
   "id": "1c551c33",
   "metadata": {},
   "outputs": [],
   "source": [
    "class FileHandler():\n",
    "    def __init__(self, file_name, method):\n",
    "        self.file_obj = open(file_name, method)\n",
    "    def __enter__(self):\n",
    "        return self.file_obj\n",
    "    def __exit__(self, ex_type, value, traceback):\n",
    "        self.file_obj.close()\n",
    "        return False\n",
    "    \n",
    "with FileHandler('my_file6.txt', 'w') as opened_file:\n",
    "    opened_file.write('Hola!')\n",
    "    opened_file.undefined_function('Oops')"
   ]
  },
  {
   "cell_type": "raw",
   "id": "fcc16cab",
   "metadata": {},
   "source": [
    "In the case below the __exit__ method returns True which silences the exception"
   ]
  },
  {
   "cell_type": "code",
   "execution_count": null,
   "id": "83ab4aa4",
   "metadata": {},
   "outputs": [],
   "source": [
    "class FileHandler(object):\n",
    "    def __init__(self, file_name, method):\n",
    "        self.file_obj = open(file_name, method)\n",
    "    def __enter__(self):\n",
    "        return self.file_obj\n",
    "    def __exit__(self, ex_type, value, traceback):\n",
    "        self.file_obj.close()\n",
    "        return True\n",
    "    \n",
    "with FileHandler('my_file5.txt', 'w') as opened_file:\n",
    "    opened_file.write('Hola!')\n",
    "    opened_file.undefined_function('Oops')"
   ]
  },
  {
   "cell_type": "markdown",
   "id": "e84f2c48",
   "metadata": {},
   "source": [
    "### Example control flow and exception handling"
   ]
  },
  {
   "cell_type": "code",
   "execution_count": null,
   "id": "ca6ff75e",
   "metadata": {},
   "outputs": [],
   "source": [
    "import os \n",
    "\n",
    "class FileHandler(object):\n",
    "    def __init__(self, file_name, method):\n",
    "        self.file_obj = open(file_name, method)\n",
    "    def __enter__(self):\n",
    "        return self.file_obj\n",
    "    def __exit__(self, ex_type, value, traceback):\n",
    "        self.file_obj.close()\n",
    "        if ex_type:\n",
    "            print(f\"Logging Exception type: {ex_type}, value: {value}\")\n",
    "            print(f\"Removing corrupted file: {self.file_obj.name}\")\n",
    "            os.remove(self.file_obj.name)\n",
    "            return True\n",
    "        \n",
    "    \n",
    "with FileHandler('my_file10.txt', 'w') as opened_file:\n",
    "    opened_file.write('Hola!')\n",
    "    opened_file.undefined_function('Oops')\n",
    "    \n",
    "# is run only if no exception raised or when exception is silenced by the context manager\n",
    "print(\"I want to run this regardless of context manager failing\")"
   ]
  },
  {
   "cell_type": "markdown",
   "id": "228160c3",
   "metadata": {},
   "source": [
    "Silencing/suppressing exceptions in the context manager can be useful when working with AWS Lambda functions as any raised exception automatically stops the lambda function"
   ]
  },
  {
   "cell_type": "raw",
   "id": "af6069db",
   "metadata": {},
   "source": [
    "Another great benefit of the __exit__ method is it completely eliminates the need of broad except Exception clauses."
   ]
  },
  {
   "cell_type": "markdown",
   "id": "49c36a5f",
   "metadata": {},
   "source": [
    "### Handling specific exception type "
   ]
  },
  {
   "cell_type": "code",
   "execution_count": null,
   "id": "3371846a",
   "metadata": {},
   "outputs": [],
   "source": [
    "class FileHandler(object):\n",
    "    def __init__(self, file_name, method):\n",
    "        self.file_obj = open(file_name, method)\n",
    "    def __enter__(self):\n",
    "        return self.file_obj\n",
    "    def __exit__(self, ex_type, value, traceback):\n",
    "        self.file_obj.close()\n",
    "        if ex_type:\n",
    "            print(f\"Logging Exception type: {ex_type}, value: {value}\")\n",
    "            if ex_type == AttributeError:\n",
    "                print(f\"Removing corrupted file: {self.file_obj.name}\")\n",
    "                os.remove(self.file_obj.name)\n",
    "                return True\n",
    "            print(f\"Logging and raising different Exception type: {ex_type}, value: {value}\")\n",
    "            return False\n",
    "        \n",
    "with FileHandler('my_file10.txt', 'w') as opened_file:\n",
    "    opened_file.write('Hola!')\n",
    "    opened_file.undefined_function('Oops')\n",
    "    #raise Exception(\"Fail\")\n",
    "    \n",
    "# is run only if no exception raised or when exception is silenced by the context manager\n",
    "print(\"I want to run this regardless of context manager failing\")"
   ]
  },
  {
   "cell_type": "markdown",
   "id": "1fb698cb",
   "metadata": {},
   "source": [
    "### Context manager as a Generator"
   ]
  },
  {
   "cell_type": "markdown",
   "id": "1e686b92",
   "metadata": {},
   "source": [
    "Instead of a class, we can implement a Context Manager using a generator function with ***contextlib*** module"
   ]
  },
  {
   "cell_type": "code",
   "execution_count": null,
   "id": "acb078b9",
   "metadata": {},
   "outputs": [],
   "source": [
    "from contextlib import contextmanager\n",
    "\n",
    "@contextmanager\n",
    "def open_file(name):\n",
    "    f = open(name, 'w')\n",
    "    try:\n",
    "        yield f\n",
    "    finally:\n",
    "        f.close()"
   ]
  },
  {
   "cell_type": "markdown",
   "id": "729cbaec",
   "metadata": {},
   "source": [
    "1) Python encounters the ***yield*** keyword. Due to this it creates a generator instead of a normal function.  \n",
    "2) Due to the ***decoration***, contextmanager is called with the function name (open_file) as its argument.  \n",
    "3) The context manager ***decorator*** returns the generator wrapped by the ***GeneratorContextManager*** object.  \n",
    "4) The GeneratorContextManager is assigned to the open_file function. Therefore, when we later call the open_file function, we are actually calling the GeneratorContextManager object."
   ]
  },
  {
   "cell_type": "code",
   "execution_count": null,
   "id": "de3d048e",
   "metadata": {},
   "outputs": [],
   "source": [
    "with open_file('last_file.txt') as f:\n",
    "    f.write('last hola!')"
   ]
  }
 ],
 "metadata": {
  "kernelspec": {
   "display_name": "Python 3 (ipykernel)",
   "language": "python",
   "name": "python3"
  },
  "language_info": {
   "codemirror_mode": {
    "name": "ipython",
    "version": 3
   },
   "file_extension": ".py",
   "mimetype": "text/x-python",
   "name": "python",
   "nbconvert_exporter": "python",
   "pygments_lexer": "ipython3",
   "version": "3.9.12"
  }
 },
 "nbformat": 4,
 "nbformat_minor": 5
}
